{
 "cells": [
  {
   "cell_type": "code",
   "execution_count": 6,
   "id": "470f0dbc",
   "metadata": {},
   "outputs": [
    {
     "data": {
      "text/html": [
       "<div>\n",
       "<style scoped>\n",
       "    .dataframe tbody tr th:only-of-type {\n",
       "        vertical-align: middle;\n",
       "    }\n",
       "\n",
       "    .dataframe tbody tr th {\n",
       "        vertical-align: top;\n",
       "    }\n",
       "\n",
       "    .dataframe thead th {\n",
       "        text-align: right;\n",
       "    }\n",
       "</style>\n",
       "<table border=\"1\" class=\"dataframe\">\n",
       "  <thead>\n",
       "    <tr style=\"text-align: right;\">\n",
       "      <th></th>\n",
       "      <th>Student ID</th>\n",
       "      <th>Risk Signals</th>\n",
       "      <th>Attendance %</th>\n",
       "      <th>Grades</th>\n",
       "      <th>Discipline Incidents</th>\n",
       "      <th>Counselor Visits</th>\n",
       "      <th>Previous Alerts</th>\n",
       "      <th>Social Post</th>\n",
       "    </tr>\n",
       "  </thead>\n",
       "  <tbody>\n",
       "    <tr>\n",
       "      <th>0</th>\n",
       "      <td>A123</td>\n",
       "      <td>Aggressive behavior</td>\n",
       "      <td>60</td>\n",
       "      <td>2.0</td>\n",
       "      <td>3</td>\n",
       "      <td>1</td>\n",
       "      <td>2</td>\n",
       "      <td>I feel like giving up</td>\n",
       "    </tr>\n",
       "    <tr>\n",
       "      <th>1</th>\n",
       "      <td>B456</td>\n",
       "      <td>None</td>\n",
       "      <td>95</td>\n",
       "      <td>3.6</td>\n",
       "      <td>0</td>\n",
       "      <td>0</td>\n",
       "      <td>0</td>\n",
       "      <td>Excited for break!</td>\n",
       "    </tr>\n",
       "    <tr>\n",
       "      <th>2</th>\n",
       "      <td>C789</td>\n",
       "      <td>Skipping classes</td>\n",
       "      <td>45</td>\n",
       "      <td>1.5</td>\n",
       "      <td>2</td>\n",
       "      <td>0</td>\n",
       "      <td>1</td>\n",
       "      <td>Nobody understands me</td>\n",
       "    </tr>\n",
       "    <tr>\n",
       "      <th>3</th>\n",
       "      <td>D101</td>\n",
       "      <td>None</td>\n",
       "      <td>85</td>\n",
       "      <td>2.8</td>\n",
       "      <td>1</td>\n",
       "      <td>2</td>\n",
       "      <td>0</td>\n",
       "      <td>Had a good day today</td>\n",
       "    </tr>\n",
       "    <tr>\n",
       "      <th>4</th>\n",
       "      <td>E202</td>\n",
       "      <td>Disruptive in class</td>\n",
       "      <td>50</td>\n",
       "      <td>1.9</td>\n",
       "      <td>4</td>\n",
       "      <td>0</td>\n",
       "      <td>3</td>\n",
       "      <td>I hate everything right now</td>\n",
       "    </tr>\n",
       "  </tbody>\n",
       "</table>\n",
       "</div>"
      ],
      "text/plain": [
       "  Student ID         Risk Signals  Attendance %  Grades  Discipline Incidents  \\\n",
       "0       A123  Aggressive behavior            60     2.0                     3   \n",
       "1       B456                 None            95     3.6                     0   \n",
       "2       C789     Skipping classes            45     1.5                     2   \n",
       "3       D101                 None            85     2.8                     1   \n",
       "4       E202  Disruptive in class            50     1.9                     4   \n",
       "\n",
       "   Counselor Visits  Previous Alerts                  Social Post  \n",
       "0                 1                2        I feel like giving up  \n",
       "1                 0                0           Excited for break!  \n",
       "2                 0                1        Nobody understands me  \n",
       "3                 2                0         Had a good day today  \n",
       "4                 0                3  I hate everything right now  "
      ]
     },
     "execution_count": 6,
     "metadata": {},
     "output_type": "execute_result"
    }
   ],
   "source": [
    "import pandas as pd\n",
    "\n",
    "data = {\n",
    "    'Student ID': ['A123', 'B456', 'C789', 'D101', 'E202'],\n",
    "    'Risk Signals': ['Aggressive behavior', 'None', 'Skipping classes', 'None', 'Disruptive in class'],\n",
    "    'Attendance %': [60, 95, 45, 85, 50],\n",
    "    'Grades': [2.0, 3.6, 1.5, 2.8, 1.9],\n",
    "    'Discipline Incidents': [3, 0, 2, 1, 4],\n",
    "    'Counselor Visits': [1, 0, 0, 2, 0],\n",
    "    'Previous Alerts': [2, 0, 1, 0, 3],\n",
    "    'Social Post': [\n",
    "        \"I feel like giving up\",\n",
    "        \"Excited for break!\",\n",
    "        \"Nobody understands me\",\n",
    "        \"Had a good day today\",\n",
    "        \"I hate everything right now\"\n",
    "    ]\n",
    "}\n",
    "\n",
    "df = pd.DataFrame(data)\n",
    "df\n"
   ]
  },
  {
   "cell_type": "code",
   "execution_count": 7,
   "id": "c9395b44",
   "metadata": {},
   "outputs": [],
   "source": [
    "def calculate_risk(row):\n",
    "    score = 0\n",
    "    if row['Risk Signals'] != \"None\":\n",
    "        score += 4\n",
    "    if row['Attendance %'] < 70:\n",
    "        score += 3\n",
    "    if row['Grades'] < 2.5:\n",
    "        score += 2\n",
    "    if row['Discipline Incidents'] > 1:\n",
    "        score += 2\n",
    "    if row['Previous Alerts'] > 0:\n",
    "        score += 2\n",
    "    return score\n",
    "\n",
    "df['Risk Score'] = df.apply(calculate_risk, axis=1)\n"
   ]
  },
  {
   "cell_type": "code",
   "execution_count": 8,
   "id": "12abe6d6",
   "metadata": {},
   "outputs": [],
   "source": [
    "def sentiment_score(text):\n",
    "    negative_keywords = ['giving up', 'alone', 'hate', 'nobody understands', 'fail']\n",
    "    return sum(1 for word in negative_keywords if word in text.lower())\n",
    "\n",
    "df['NLP Score'] = df['Social Post'].apply(sentiment_score)\n",
    "df['Risk Score'] += df['NLP Score']\n"
   ]
  },
  {
   "cell_type": "code",
   "execution_count": 9,
   "id": "9352fd9f",
   "metadata": {},
   "outputs": [
    {
     "data": {
      "text/html": [
       "<div>\n",
       "<style scoped>\n",
       "    .dataframe tbody tr th:only-of-type {\n",
       "        vertical-align: middle;\n",
       "    }\n",
       "\n",
       "    .dataframe tbody tr th {\n",
       "        vertical-align: top;\n",
       "    }\n",
       "\n",
       "    .dataframe thead th {\n",
       "        text-align: right;\n",
       "    }\n",
       "</style>\n",
       "<table border=\"1\" class=\"dataframe\">\n",
       "  <thead>\n",
       "    <tr style=\"text-align: right;\">\n",
       "      <th></th>\n",
       "      <th>Student ID</th>\n",
       "      <th>Risk Signals</th>\n",
       "      <th>Attendance %</th>\n",
       "      <th>Grades</th>\n",
       "      <th>Discipline Incidents</th>\n",
       "      <th>Counselor Visits</th>\n",
       "      <th>Previous Alerts</th>\n",
       "      <th>Social Post</th>\n",
       "      <th>Risk Score</th>\n",
       "      <th>NLP Score</th>\n",
       "      <th>Action</th>\n",
       "    </tr>\n",
       "  </thead>\n",
       "  <tbody>\n",
       "    <tr>\n",
       "      <th>0</th>\n",
       "      <td>A123</td>\n",
       "      <td>Aggressive behavior</td>\n",
       "      <td>60</td>\n",
       "      <td>2.0</td>\n",
       "      <td>3</td>\n",
       "      <td>1</td>\n",
       "      <td>2</td>\n",
       "      <td>I feel like giving up</td>\n",
       "      <td>14</td>\n",
       "      <td>1</td>\n",
       "      <td>🚨 Escalate to Counselor</td>\n",
       "    </tr>\n",
       "    <tr>\n",
       "      <th>1</th>\n",
       "      <td>B456</td>\n",
       "      <td>None</td>\n",
       "      <td>95</td>\n",
       "      <td>3.6</td>\n",
       "      <td>0</td>\n",
       "      <td>0</td>\n",
       "      <td>0</td>\n",
       "      <td>Excited for break!</td>\n",
       "      <td>0</td>\n",
       "      <td>0</td>\n",
       "      <td>✅ No Action Needed</td>\n",
       "    </tr>\n",
       "    <tr>\n",
       "      <th>2</th>\n",
       "      <td>C789</td>\n",
       "      <td>Skipping classes</td>\n",
       "      <td>45</td>\n",
       "      <td>1.5</td>\n",
       "      <td>2</td>\n",
       "      <td>0</td>\n",
       "      <td>1</td>\n",
       "      <td>Nobody understands me</td>\n",
       "      <td>14</td>\n",
       "      <td>1</td>\n",
       "      <td>🚨 Escalate to Counselor</td>\n",
       "    </tr>\n",
       "    <tr>\n",
       "      <th>3</th>\n",
       "      <td>D101</td>\n",
       "      <td>None</td>\n",
       "      <td>85</td>\n",
       "      <td>2.8</td>\n",
       "      <td>1</td>\n",
       "      <td>2</td>\n",
       "      <td>0</td>\n",
       "      <td>Had a good day today</td>\n",
       "      <td>0</td>\n",
       "      <td>0</td>\n",
       "      <td>✅ No Action Needed</td>\n",
       "    </tr>\n",
       "    <tr>\n",
       "      <th>4</th>\n",
       "      <td>E202</td>\n",
       "      <td>Disruptive in class</td>\n",
       "      <td>50</td>\n",
       "      <td>1.9</td>\n",
       "      <td>4</td>\n",
       "      <td>0</td>\n",
       "      <td>3</td>\n",
       "      <td>I hate everything right now</td>\n",
       "      <td>14</td>\n",
       "      <td>1</td>\n",
       "      <td>🚨 Escalate to Counselor</td>\n",
       "    </tr>\n",
       "  </tbody>\n",
       "</table>\n",
       "</div>"
      ],
      "text/plain": [
       "  Student ID         Risk Signals  Attendance %  Grades  Discipline Incidents  \\\n",
       "0       A123  Aggressive behavior            60     2.0                     3   \n",
       "1       B456                 None            95     3.6                     0   \n",
       "2       C789     Skipping classes            45     1.5                     2   \n",
       "3       D101                 None            85     2.8                     1   \n",
       "4       E202  Disruptive in class            50     1.9                     4   \n",
       "\n",
       "   Counselor Visits  Previous Alerts                  Social Post  Risk Score  \\\n",
       "0                 1                2        I feel like giving up          14   \n",
       "1                 0                0           Excited for break!           0   \n",
       "2                 0                1        Nobody understands me          14   \n",
       "3                 2                0         Had a good day today           0   \n",
       "4                 0                3  I hate everything right now          14   \n",
       "\n",
       "   NLP Score                   Action  \n",
       "0          1  🚨 Escalate to Counselor  \n",
       "1          0       ✅ No Action Needed  \n",
       "2          1  🚨 Escalate to Counselor  \n",
       "3          0       ✅ No Action Needed  \n",
       "4          1  🚨 Escalate to Counselor  "
      ]
     },
     "execution_count": 9,
     "metadata": {},
     "output_type": "execute_result"
    }
   ],
   "source": [
    "def decide_action(score):\n",
    "    if score >= 10:\n",
    "        return \"🚨 Escalate to Counselor\"\n",
    "    elif score >= 6:\n",
    "        return \"👀 Add to Watchlist\"\n",
    "    else:\n",
    "        return \"✅ No Action Needed\"\n",
    "\n",
    "df['Action'] = df['Risk Score'].apply(decide_action)\n",
    "df\n",
    "\n"
   ]
  },
  {
   "cell_type": "code",
   "execution_count": 10,
   "id": "54a4e7ae",
   "metadata": {},
   "outputs": [
    {
     "data": {
      "image/png": "[encoded data removed]",
      "text/plain": [
       "<Figure size 800x400 with 1 Axes>"
      ]
     },
     "metadata": {},
     "output_type": "display_data"
    }
   ],
   "source": [
    "import matplotlib.pyplot as plt\n",
    "\n",
    "plt.figure(figsize=(8,4))\n",
    "plt.bar(df['Student ID'], df['Risk Score'], color='orange')\n",
    "plt.title('Student Risk Scores')\n",
    "plt.xlabel('Student ID')\n",
    "plt.ylabel('Risk Score')\n",
    "plt.ylim(0, 15)\n",
    "plt.grid(True)\n",
    "plt.show()\n"
   ]
  },
  {
   "cell_type": "code",
   "execution_count": 11,
   "id": "1ff82e7f",
   "metadata": {},
   "outputs": [
    {
     "name": "stderr",
     "output_type": "stream",
     "text": [
      "C:\\Users\\Vishan Lingam\\anaconda3\\Lib\\site-packages\\IPython\\core\\pylabtools.py:152: UserWarning: Glyph 128680 (\\N{POLICE CARS REVOLVING LIGHT}) missing from current font.\n",
      "  fig.canvas.print_figure(bytes_io, **kw)\n",
      "C:\\Users\\Vishan Lingam\\anaconda3\\Lib\\site-packages\\IPython\\core\\pylabtools.py:152: UserWarning: Glyph 9989 (\\N{WHITE HEAVY CHECK MARK}) missing from current font.\n",
      "  fig.canvas.print_figure(bytes_io, **kw)\n"
     ]
    },
    {
     "data": {
      "image/png": "[encoded data removed]",
      "text/plain": [
       "<Figure size 640x480 with 1 Axes>"
      ]
     },
     "metadata": {},
     "output_type": "display_data"
    }
   ],
   "source": [
    "df['Action'].value_counts().plot(kind='pie', autopct='%1.1f%%', startangle=90)\n",
    "plt.title('Action Distribution')\n",
    "plt.ylabel('')\n",
    "plt.show()\n"
   ]
  },
  {
   "cell_type": "code",
   "execution_count": 12,
   "id": "342d107d",
   "metadata": {},
   "outputs": [
    {
     "name": "stdout",
     "output_type": "stream",
     "text": [
      "ALERT: Student A123 flagged with Risk Score 14 – Immediate action required!\n",
      "ALERT: Student C789 flagged with Risk Score 14 – Immediate action required!\n",
      "ALERT: Student E202 flagged with Risk Score 14 – Immediate action required!\n"
     ]
    }
   ],
   "source": [
    "for _, row in df[df['Action'] == '🚨 Escalate to Counselor'].iterrows():\n",
    "    print(f\"ALERT: Student {row['Student ID']} flagged with Risk Score {row['Risk Score']} – Immediate action required!\")\n"
   ]
  },
  {
   "cell_type": "code",
   "execution_count": 13,
   "id": "faff4e9a",
   "metadata": {},
   "outputs": [],
   "source": [
    "df[df['Action'] == '🚨 Escalate to Counselor'].to_csv('student_alerts.csv', index=False)\n"
   ]
  },
  {
   "cell_type": "code",
   "execution_count": null,
   "id": "ad4bdfca",
   "metadata": {},
   "outputs": [],
   "source": []
  }
 ],
 "metadata": {
  "kernelspec": {
   "display_name": "Python 3 (ipykernel)",
   "language": "python",
   "name": "python3"
  },
  "language_info": {
   "codemirror_mode": {
    "name": "ipython",
    "version": 3
   },
   "file_extension": ".py",
   "mimetype": "text/x-python",
   "name": "python",
   "nbconvert_exporter": "python",
   "pygments_lexer": "ipython3",
   "version": "3.11.5"
  }
 },
 "nbformat": 4,
 "nbformat_minor": 5
}
